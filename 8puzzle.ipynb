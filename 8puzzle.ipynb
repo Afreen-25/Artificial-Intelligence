{
  "nbformat": 4,
  "nbformat_minor": 0,
  "metadata": {
    "colab": {
      "provenance": []
    },
    "kernelspec": {
      "name": "python3",
      "display_name": "Python 3"
    },
    "language_info": {
      "name": "python"
    }
  },
  "cells": [
    {
      "cell_type": "code",
      "execution_count": null,
      "metadata": {
        "colab": {
          "base_uri": "https://localhost:8080/"
        },
        "id": "20zaic79LOIm",
        "outputId": "c9dbd95a-ccda-4f86-f40b-242c59a755b5"
      },
      "outputs": [
        {
          "output_type": "stream",
          "name": "stdout",
          "text": [
            "Enter row1 (separate numbers with spaces): 1 2 3\n",
            "Enter row2 (separate numbers with spaces): 0 4 5\n",
            "Enter row3 (separate numbers with spaces): 6 7 8\n",
            "possible moves: \n",
            "1 2 3\n",
            "4 4 5\n",
            "6 7 8\n",
            "\n",
            "\n",
            "1 2 3\n",
            "6 4 5\n",
            "6 7 8\n",
            "\n",
            "\n",
            "1 2 3\n",
            "1 4 5\n",
            "6 7 8\n",
            "\n",
            "\n"
          ]
        }
      ],
      "source": [
        "class Puzzle:\n",
        "    def __init__(self, board):\n",
        "        self.board=board\n",
        "    def __str__(self):\n",
        "        return \"\\n\".join([\" \".join(map(str, row)) for row in self.board])\n",
        "    def find_possible_moves(self):\n",
        "        moves=[]\n",
        "        for i in range(3):\n",
        "            for j in range(3):\n",
        "                if self.board[i][j]==0:\n",
        "                    empty_i, empty_j=i,j\n",
        "\n",
        "        possible_moves=[(0,1), (1,0), (-1,0), (0, -1)]\n",
        "\n",
        "        for move_i, move_j in possible_moves:\n",
        "            new_i, new_j=empty_i+move_i, empty_j+move_j\n",
        "            if 0<=new_i<3 and 0<=new_j<3:\n",
        "                new=[list(row) for row in self.board]\n",
        "                new[empty_i][empty_j]=new[new_i][new_j]\n",
        "                new[new_i][new_j]=new[empty_i][empty_j]\n",
        "                moves.append(Puzzle(new))\n",
        "\n",
        "        return moves\n",
        "\n",
        "def make_initial_board():\n",
        "    initial_board=[]\n",
        "    for i in range(3):\n",
        "        row=input(f\"Enter row{i+1} (separate numbers with spaces): \").split()\n",
        "        row=[int(num) for num in row]\n",
        "        initial_board.append(row)\n",
        "    return initial_board\n",
        "initial_board=make_initial_board()\n",
        "puzzle=Puzzle(initial_board)\n",
        "possible_moves=puzzle.find_possible_moves()\n",
        "print(\"possible moves: \")\n",
        "\n",
        "for move in possible_moves:\n",
        "    print(move)\n",
        "    print(\"\\n\")\n",
        "\n",
        "\n",
        "\n"
      ]
    }
  ]
}