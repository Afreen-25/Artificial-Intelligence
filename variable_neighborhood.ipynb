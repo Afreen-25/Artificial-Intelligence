{
  "nbformat": 4,
  "nbformat_minor": 0,
  "metadata": {
    "colab": {
      "provenance": []
    },
    "kernelspec": {
      "name": "python3",
      "display_name": "Python 3"
    },
    "language_info": {
      "name": "python"
    }
  },
  "cells": [
    {
      "cell_type": "markdown",
      "source": [
        "1. F = ( A V B) ^ ( B ^ ~C) ^ ( ~B ) ^ ( ~C V E) ^ ( A V C ) ^ ( ~C V ~"
      ],
      "metadata": {
        "id": "eSRXh7l8NpTJ"
      }
    },
    {
      "cell_type": "code",
      "execution_count": null,
      "metadata": {
        "id": "_z8Ow1XtL9_J"
      },
      "outputs": [],
      "source": [
        "import numpy as np\n",
        "def movegen(s):\n",
        "  child = []\n",
        "  for i in range(len(s)):\n",
        "    t = s.copy()\n",
        "    if t[i]==0:\n",
        "      t[i]=1\n",
        "    else:\n",
        "      t[i]=0\n",
        "    child.append(t)\n",
        "  return child\n",
        "def Goaltest(h,g):\n",
        "  if g==h:\n",
        "    return True\n",
        "  else:\n",
        "    False\n",
        "def heuristic_value(r):\n",
        "  sum = 0\n",
        "  for i in range(len(r)):\n",
        "    if r[i]==goal[i]:\n",
        "      sum = sum+1\n",
        "  return sum\n",
        "def hillclimbing(r,heuristic,flag):\n",
        "  values = []\n",
        "  for i in range(len(r)):\n",
        "    values.append(heuristic_value(r[i]))\n",
        "  values = np.array(values)\n",
        "  high = max(values)\n",
        "  if(high>heuristic):\n",
        "    heuristic = high\n",
        "    ind = np.argmax(values)\n",
        "    return r[ind] , heuristic , flag\n",
        "  else:\n",
        "    print(\"No better value found\")\n",
        "    flag=0\n",
        "    return r[heuristic] , heuristic , flag\n",
        "def Variable_Neighbourhood_Descent(start,heuristic,n,flag,g):\n",
        "  node = start\n",
        "  for i in range(1,n):\n",
        "    if(Goaltest(node,g)):\n",
        "      print(\"Goal achieved : \",node,\" At depth : \",i)\n",
        "      return\n",
        "    else:\n",
        "      if flag!=0:\n",
        "        print(\"depth : \",i)\n",
        "        print(node)\n",
        "        new_nodes = movegen(node)\n",
        "        print(new_nodes)\n",
        "        node,heuristic,flag = hillclimbing(new_nodes,heuristic,flag)\n",
        "      else:\n",
        "        print(\"Program Over, the best found is : \",node, \"heuristic : \",heuristic)\n",
        "        return\n"
      ]
    },
    {
      "cell_type": "code",
      "source": [
        "l = []\n",
        "i=65\n",
        "k=0\n",
        "while(k<5):\n",
        "  n = str(chr(i))\n",
        "  c = int(input(\"Enter the value of \" + n + \" : \" ))\n",
        "  l.append(c)\n",
        "  i = i+1\n",
        "  k=k+1"
      ],
      "metadata": {
        "colab": {
          "base_uri": "https://localhost:8080/"
        },
        "id": "EI777SglMQ4D",
        "outputId": "d06911e6-8e60-4663-b05e-6dc7fc337a97"
      },
      "execution_count": null,
      "outputs": [
        {
          "name": "stdout",
          "output_type": "stream",
          "text": [
            "Enter the value of A : 1\n",
            "Enter the value of B : 0\n",
            "Enter the value of C : 1\n",
            "Enter the value of D : 0\n",
            "Enter the value of E : 1\n"
          ]
        }
      ]
    },
    {
      "cell_type": "code",
      "source": [
        "goal = [1,0,0,1,0]\n",
        "print(\"The starting state is: \", l)"
      ],
      "metadata": {
        "colab": {
          "base_uri": "https://localhost:8080/"
        },
        "id": "gegMJFopMflK",
        "outputId": "106d20e7-5fc7-4b99-afb1-1d86ee6ce4a9"
      },
      "execution_count": null,
      "outputs": [
        {
          "output_type": "stream",
          "name": "stdout",
          "text": [
            "The starting state is:  [1, 0, 1, 0, 1]\n"
          ]
        }
      ]
    },
    {
      "cell_type": "code",
      "source": [
        "heuristic = 0\n",
        "flag = 1\n",
        "Variable_Neighbourhood_Descent(l,heuristic,5,flag,goal)"
      ],
      "metadata": {
        "colab": {
          "base_uri": "https://localhost:8080/"
        },
        "id": "3_G6eWDmMh-S",
        "outputId": "1fdd2b5c-e0a3-40e7-eca8-859ea70d2261"
      },
      "execution_count": null,
      "outputs": [
        {
          "output_type": "stream",
          "name": "stdout",
          "text": [
            "depth :  1\n",
            "[1, 0, 1, 0, 1]\n",
            "[[0, 0, 1, 0, 1], [1, 1, 1, 0, 1], [1, 0, 0, 0, 1], [1, 0, 1, 1, 1], [1, 0, 1, 0, 0]]\n",
            "depth :  2\n",
            "[1, 0, 0, 0, 1]\n",
            "[[0, 0, 0, 0, 1], [1, 1, 0, 0, 1], [1, 0, 1, 0, 1], [1, 0, 0, 1, 1], [1, 0, 0, 0, 0]]\n",
            "depth :  3\n",
            "[1, 0, 0, 1, 1]\n",
            "[[0, 0, 0, 1, 1], [1, 1, 0, 1, 1], [1, 0, 1, 1, 1], [1, 0, 0, 0, 1], [1, 0, 0, 1, 0]]\n",
            "Goal achieved :  [1, 0, 0, 1, 0]  At depth :  4\n"
          ]
        }
      ]
    },
    {
      "cell_type": "markdown",
      "source": [
        "\n",
        "\n",
        "---\n",
        "\n"
      ],
      "metadata": {
        "id": "kvlx8g8dM4rU"
      }
    },
    {
      "cell_type": "markdown",
      "source": [
        "2. F = ( A V B) ^ ( A ^ ~C) ^ ( B ^ D ) ^ ( A V ~E)"
      ],
      "metadata": {
        "id": "2cMeMdFbM1ua"
      }
    },
    {
      "cell_type": "code",
      "source": [
        "goal = [1,1,0,1,0]\n",
        "l = []\n",
        "i=65\n",
        "k=0\n",
        "while(k<5):\n",
        "  n = str(chr(i))\n",
        "  c = int(input(\"Enter the value of \" + n + \" : \" ))\n",
        "  l.append(c)\n",
        "  i = i+1\n",
        "  k=k+1"
      ],
      "metadata": {
        "colab": {
          "base_uri": "https://localhost:8080/"
        },
        "id": "HMDCA7x1M1fy",
        "outputId": "b14cb09f-945f-4bd7-9d0c-2b6c775c8210"
      },
      "execution_count": null,
      "outputs": [
        {
          "name": "stdout",
          "output_type": "stream",
          "text": [
            "Enter the value of A : 1\n",
            "Enter the value of B : 0\n",
            "Enter the value of C : 1\n",
            "Enter the value of D : 0\n",
            "Enter the value of E : 1\n"
          ]
        }
      ]
    },
    {
      "cell_type": "code",
      "source": [
        "Variable_Neighbourhood_Descent(l,heuristic,10,flag,goal)"
      ],
      "metadata": {
        "colab": {
          "base_uri": "https://localhost:8080/"
        },
        "id": "FwO_Lr_kNDTs",
        "outputId": "b60223c5-f5fd-460c-c5ad-1900f6243ade"
      },
      "execution_count": null,
      "outputs": [
        {
          "output_type": "stream",
          "name": "stdout",
          "text": [
            "depth :  1\n",
            "[1, 0, 1, 0, 1]\n",
            "[[0, 0, 1, 0, 1], [1, 1, 1, 0, 1], [1, 0, 0, 0, 1], [1, 0, 1, 1, 1], [1, 0, 1, 0, 0]]\n",
            "depth :  2\n",
            "[1, 1, 1, 0, 1]\n",
            "[[0, 1, 1, 0, 1], [1, 0, 1, 0, 1], [1, 1, 0, 0, 1], [1, 1, 1, 1, 1], [1, 1, 1, 0, 0]]\n",
            "depth :  3\n",
            "[1, 1, 0, 0, 1]\n",
            "[[0, 1, 0, 0, 1], [1, 0, 0, 0, 1], [1, 1, 1, 0, 1], [1, 1, 0, 1, 1], [1, 1, 0, 0, 0]]\n",
            "depth :  4\n",
            "[1, 1, 0, 1, 1]\n",
            "[[0, 1, 0, 1, 1], [1, 0, 0, 1, 1], [1, 1, 1, 1, 1], [1, 1, 0, 0, 1], [1, 1, 0, 1, 0]]\n",
            "Goal achieved :  [1, 1, 0, 1, 0]  At depth :  5\n"
          ]
        }
      ]
    }
  ]
}