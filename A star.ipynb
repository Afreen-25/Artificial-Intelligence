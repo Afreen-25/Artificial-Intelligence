{
  "nbformat": 4,
  "nbformat_minor": 0,
  "metadata": {
    "colab": {
      "provenance": []
    },
    "kernelspec": {
      "name": "python3",
      "display_name": "Python 3"
    },
    "language_info": {
      "name": "python"
    }
  },
  "cells": [
    {
      "cell_type": "code",
      "source": [
        "import pandas as pd\n",
        "import heapq\n",
        "\n",
        "# Function to read the distance matrix from a CSV file\n",
        "def read_distance_matrix(file_path):\n",
        "    distance_matrix = pd.read_csv(file_path, index_col=0)\n",
        "    return distance_matrix\n",
        "\n",
        "# Function to find the shortest path using A* algorithm\n",
        "def shortest_path_a_star(graph, start, end):\n",
        "    open_list = [(0, start)]\n",
        "    came_from = {}\n",
        "    g_score = {location: float('inf') for location in graph.index}\n",
        "    g_score[start] = 0\n",
        "\n",
        "    while open_list:\n",
        "        current_cost, current = heapq.heappop(open_list)\n",
        "\n",
        "        if current == end:\n",
        "            return g_score[current]  # Return the total distance cost\n",
        "\n",
        "        for neighbor in graph.columns:\n",
        "            if neighbor == current:\n",
        "                continue\n",
        "\n",
        "            cost = graph.at[current, neighbor]\n",
        "            tentative_g_score = g_score[current] + cost\n",
        "\n",
        "            if tentative_g_score < g_score[neighbor]:\n",
        "                came_from[neighbor] = current\n",
        "                g_score[neighbor] = tentative_g_score\n",
        "                f_score = tentative_g_score\n",
        "                heapq.heappush(open_list, (f_score, neighbor))\n",
        "\n",
        "    return float('inf')  # Return infinity if no path found\n",
        "\n",
        "# Main function\n",
        "def main():\n",
        "    distance_matrix_path = '/content/places.csv'  # Replace with your CSV file path\n",
        "\n",
        "    distance_matrix = read_distance_matrix(distance_matrix_path)\n",
        "\n",
        "    start_location = 'DJ Sanghvi college'\n",
        "    end_location = 'trident hotel'\n",
        "\n",
        "    if start_location not in distance_matrix.index or end_location not in distance_matrix.index:\n",
        "        print(\"Invalid start or end location\")\n",
        "        return\n",
        "\n",
        "    shortest_cost = shortest_path_a_star(distance_matrix, start_location, end_location)\n",
        "    if shortest_cost < float('inf'):\n",
        "        print(\"Shortest Distance Cost from \" + start_location + \" to \" + end_location + \" is \" + str(shortest_cost))\n",
        "    else:\n",
        "       print(\"No path found from \" + start_location + \" to \" + end_location)\n",
        "\n",
        "\n",
        "if __name__ == \"__main__\":\n",
        "    main()\n"
      ],
      "metadata": {
        "colab": {
          "base_uri": "https://localhost:8080/"
        },
        "id": "R8HbZPK5VgY7",
        "outputId": "51f5a495-5bf5-44a3-9f3d-b2b45abcf37f"
      },
      "execution_count": null,
      "outputs": [
        {
          "output_type": "stream",
          "name": "stdout",
          "text": [
            "Shortest Distance Cost from DJ Sanghvi college to trident hotel is 19.86\n"
          ]
        }
      ]
    }
  ]
}